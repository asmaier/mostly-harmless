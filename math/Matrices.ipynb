{
 "cells": [
  {
   "cell_type": "markdown",
   "metadata": {},
   "source": [
    "# Matrices\n",
    "In the following we want to restrict our discussion to matrices with real entries. \n",
    "\n",
    "## Square matrices\n",
    "Every square matrix can be split into a symmetric and an antisymmetric (skew-symmetric)\n",
    "part\n",
    "$$\n",
    "\\newcommand{\\lra}[1]{{ \\left( #1 \\right) }}\n",
    "A=\\underbrace{\\frac{1}{2}\\lra{A + A^T}}_{\\text{symmetric}}\n",
    "+\\underbrace{\\frac{1}{2}\\lra{A - A^T}}_{\\text{antisymmetric}}\n",
    "$$\n",
    "\n",
    "## Symmetric matrices\n",
    "A symmetric matrix is a square matrix, that is equal to it's transpose.\n",
    "$$\n",
    "A = A^T\n",
    "$$\n",
    "The sum of two symmetric matrices is again a symmetric matrix, but the product of two matrices is\n",
    "in general not symmetric. The product of two symmetric matrices $A$ and $B$ is symmetric only, if the two matrices commute:\n",
    "$$\n",
    "AB = (AB)^T \\ \\text{if}\\ AB = BA\n",
    "$$\n",
    " \n",
    "Symmetric matrices with real entries have only real eigenvalues. That is why in principle, every symmetric\n",
    "matrix is equivalent to a diagonal matrix with its eigenvalues being the entries on the diagonal.  "
   ]
  },
  {
   "cell_type": "code",
   "execution_count": 9,
   "metadata": {
    "collapsed": false
   },
   "outputs": [
    {
     "data": {
      "text/html": [
       "<style>\n",
       "\n",
       "    @import url('http://fonts.googleapis.com/css?family=Crimson+Text');\n",
       "    @import url('http://fonts.googleapis.com/css?family=Source+Code+Pro');\n",
       "\n",
       "    /* Change code font */\n",
       "    .CodeMirror pre {\n",
       "        font-family: 'Source Code Pro', Consolas, monocco, monospace;\n",
       "    }\n",
       "\n",
       "    div.input_area {\n",
       "        width: 60em;\n",
       "    }\n",
       "\n",
       "    div.cell{\n",
       "        width: 60em;\n",
       "        margin-left: auto;\n",
       "        margin-right:auto;\n",
       "    }\n",
       "\n",
       "    div.text_cell {\n",
       "        width: 60em;\n",
       "        margin-left: auto;\n",
       "        margin-right: auto;\n",
       "    }\n",
       "\n",
       "    div.text_cell_render {\n",
       "        text-align: justify;\n",
       "        font-family: \"Crimson Text\";\n",
       "        font-size: 18pt;\n",
       "        line-height: 145%;\n",
       "    }\n",
       "\n",
       "    div.text_cell_render h1 {\n",
       "        font-size: 30pt;\n",
       "    }\n",
       "\n",
       "    div.text_cell_render h2 {\n",
       "        font-size: 24pt;\n",
       "    }\n",
       "\n",
       "    div.text_cell_render h3 {\n",
       "        font-size: 20pt;\n",
       "    }\n",
       "\n",
       "    .prompt{\n",
       "        display: None;\n",
       "    }\n",
       "</style>\n"
      ],
      "text/plain": [
       "<IPython.core.display.HTML object>"
      ]
     },
     "execution_count": 9,
     "metadata": {},
     "output_type": "execute_result"
    }
   ],
   "source": [
    "from IPython.core.display import HTML\n",
    "\n",
    "def css_styling():\n",
    "    styles = open(\"../styles/custom.html\", \"r\").read()\n",
    "    return HTML(styles)\n",
    "css_styling()"
   ]
  },
  {
   "cell_type": "code",
   "execution_count": null,
   "metadata": {
    "collapsed": true
   },
   "outputs": [],
   "source": []
  }
 ],
 "metadata": {
  "kernelspec": {
   "display_name": "Python 2",
   "language": "python",
   "name": "python2"
  },
  "language_info": {
   "codemirror_mode": {
    "name": "ipython",
    "version": 2
   },
   "file_extension": ".py",
   "mimetype": "text/x-python",
   "name": "python",
   "nbconvert_exporter": "python",
   "pygments_lexer": "ipython2",
   "version": "2.7.13"
  }
 },
 "nbformat": 4,
 "nbformat_minor": 0
}
