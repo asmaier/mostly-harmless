{
 "cells": [
  {
   "cell_type": "markdown",
   "metadata": {},
   "source": [
    "# Matrices\n",
    "In the following we want to restrict our discussion to matrices with real entries. \n",
    "\n",
    "## Square matrices\n",
    "Every square matrix can be split into a symmetric and an antisymmetric (skew-symmetric)\n",
    "part\n",
    "$$\n",
    "\\newcommand{\\lra}[1]{{ \\left( #1 \\right) }}\n",
    "A=\\underbrace{\\frac{1}{2}\\lra{A + A^T}}_{\\text{symmetric}}\n",
    "+\\underbrace{\\frac{1}{2}\\lra{A - A^T}}_{\\text{antisymmetric}}\n",
    "$$\n",
    "\n",
    "## Symmetric matrices\n",
    "A symmetric matrix is a square matrix, that is equal to it's transpose.\n",
    "$$\n",
    "A = A^T\n",
    "$$\n",
    "The sum of two symmetric matrices is again a symmetric matrix, but the product of two matrices is\n",
    "in general not symmetric. The product of two symmetric matrices $A$ and $B$ is symmetric only, if the two matrices commute:\n",
    "$$\n",
    "AB = (AB)^T \\ \\text{if}\\ AB = BA\n",
    "$$\n",
    " \n",
    "Symmetric matrices with real entries have only real eigenvalues. That is why in principle, every symmetric\n",
    "matrix is equivalent to a diagonal matrix with its eigenvalues being the entries on the diagonal.  "
   ]
  },
  {
   "cell_type": "markdown",
   "metadata": {},
   "source": [
    "## Applications of Matrices\n",
    "### Solving unsolvable equations\n",
    "We start with a simple equation:\n",
    "$$\n",
    "A^2 * 1 = 1 \n",
    "$$\n",
    "What is the transformation A, when applied twice, which turns 1 into 1 ? The answer is simple: $A=1$ or $A=-1$. But what is the transformation $B$, when applied twice, which turns 1 into -1 ?\n",
    "$$\n",
    "B^2 * 1 = -1 \n",
    "$$\n",
    "The answer it turns out, is not so simple. Based on the common rules of multiplication for real numbers, there seems to be no way to solve this equation for $B$. \n",
    "\n",
    "However there is a way out of the dilemma. The reader might have noticed, that we didn't call $A$ or $B$ a number or a variable, but a transformation. We could have also called it also an operator. This should be a hint, that maybe simple numbers are not enough to solve such an equation. \n",
    "\n",
    "So let's think a bit. Can this equation maybe interpreted in a geometrical way? Let's imagine the line of numbers. What we want is a way, to move or transform the point 1 to the point -1, but doing it with two steps (One step would be simple, this could be reflection at the zero point). If we draw the line on a sheet of paper and look from far away the solution might be become more obvious: The line is embedded on the two dimensional surface of the paper! So we might interpret our source point 1 in fact as a vector (1,0) and our target point -1 as vector (-1,0). Maybe this helps. Let's rewrite our equation in two dimensions\n",
    "$$\n",
    "B^2 * \\begin{pmatrix} 1 \\\\ 0 \\end{pmatrix} = \\begin{pmatrix} -1 \\\\ 0 \\end{pmatrix} \n",
    "$$\n",
    "So what we want is a transformation $B$, which when used twice on the vector (1,0) will turn the vector into the vector (-1,0). Vector (-1,0) is pointing into the opposite direction of vector (1,0), so it is basically rotated by 180 degrees. So we are searching for a transformation which rotates a vector in two steps by 180 degrees. Now it should be obvious that the solution for $B$ must be a transformation, which rotates a vector by 90 degrees, in short $B = R(90^{\\circ})$ (or a rotation in the other direction by -90 degrees).\n",
    "\n",
    "So we found a solution by geometrical intuition, let's try to make it precise. From linear algebra we know, that a transformation which turns a 2D vector into another 2D vector must be a 2x2 matrix. So let's rewrite the equation as a matrix equation\n",
    "$$\n",
    "\\begin{pmatrix} a & b \\\\ c & d \\end{pmatrix} * \\begin{pmatrix} a & b \\\\ c & d \\end{pmatrix} * \\begin{pmatrix} 1 \\\\ 0 \\end{pmatrix} = \\begin{pmatrix} -1 \\\\ 0 \\end{pmatrix} \n",
    "$$\n",
    "If we compute the matrix product on the left hand side we get\n",
    "$$\n",
    "\\begin{pmatrix} a^2 + bc & b (a+d) \\\\ c(a+d) & d^2 + bc \\end{pmatrix} \\begin{pmatrix} 1 \\\\ 0 \\end{pmatrix} = \\begin{pmatrix} -1 \\\\ 0 \\end{pmatrix} \n",
    "$$\n",
    "Further simplifying we get two equations\n",
    "$$\n",
    "\\begin{align}\n",
    "a^2+bc = -1 && ac + cd = 0\n",
    "\\end{align}\n",
    "$$\n",
    "To solve this equation one might attempt to set $c=0$. But in this case we would end up where we started because the equation left would be $a^2=-1$. So we have to assume $c \\neq 0$ to find a sensible solution. So we get\n",
    "$$\n",
    "\\begin{align}\n",
    "c = -\\frac{a^2+1}{b} && a = -d\n",
    "\\end{align}\n",
    "$$\n",
    "From these equation we see that we also have to assume $b \\neq 0$. But without loss of generality we can set $a=0$,$d=0$ and are left with\n",
    "$$\n",
    "bc = -1\n",
    "$$\n",
    "If we restrict ourself to integer numbers, we finally have two solutions for our transformation\n",
    "$$\n",
    "\\begin{align}\n",
    "B = \\begin{pmatrix} 0 & -1 \\\\ 1 & 0 \\end{pmatrix}  && B^* = \\begin{pmatrix} 0 & 1 \\\\ -1 & 0 \\end{pmatrix}\n",
    "\\end{align}\n",
    "$$\n",
    "So what seemed impossible to solve in 1D with simple numbers turned out to have quite simple solutions in 2D in the form of 2x2 matrices."
   ]
  },
  {
   "cell_type": "code",
   "execution_count": 1,
   "metadata": {
    "collapsed": false
   },
   "outputs": [
    {
     "data": {
      "text/html": [
       "<style>\n",
       "\n",
       "    @import url('http://fonts.googleapis.com/css?family=Crimson+Text');\n",
       "    @import url('http://fonts.googleapis.com/css?family=Source+Code+Pro');\n",
       "\n",
       "    /* Change code font */\n",
       "    .CodeMirror pre {\n",
       "        font-family: 'Source Code Pro', Consolas, monocco, monospace;\n",
       "    }\n",
       "\n",
       "    div.input_area {\n",
       "        width: 60em;\n",
       "    }\n",
       "\n",
       "    div.cell{\n",
       "        width: 60em;\n",
       "        margin-left: auto;\n",
       "        margin-right:auto;\n",
       "    }\n",
       "\n",
       "    div.text_cell {\n",
       "        width: 60em;\n",
       "        margin-left: auto;\n",
       "        margin-right: auto;\n",
       "    }\n",
       "\n",
       "    div.text_cell_render {\n",
       "        text-align: justify;\n",
       "        font-family: \"Crimson Text\";\n",
       "        font-size: 18pt;\n",
       "        line-height: 145%;\n",
       "    }\n",
       "\n",
       "    div.text_cell_render h1 {\n",
       "        font-size: 30pt;\n",
       "    }\n",
       "\n",
       "    div.text_cell_render h2 {\n",
       "        font-size: 24pt;\n",
       "    }\n",
       "\n",
       "    div.text_cell_render h3 {\n",
       "        font-size: 20pt;\n",
       "    }\n",
       "\n",
       "    .prompt{\n",
       "        display: None;\n",
       "    }\n",
       "</style>\n"
      ],
      "text/plain": [
       "<IPython.core.display.HTML object>"
      ]
     },
     "execution_count": 1,
     "metadata": {},
     "output_type": "execute_result"
    }
   ],
   "source": [
    "from IPython.core.display import HTML\n",
    "\n",
    "def css_styling():\n",
    "    styles = open(\"../styles/custom.html\", \"r\").read()\n",
    "    return HTML(styles)\n",
    "css_styling()"
   ]
  },
  {
   "cell_type": "code",
   "execution_count": null,
   "metadata": {
    "collapsed": true
   },
   "outputs": [],
   "source": []
  }
 ],
 "metadata": {
  "kernelspec": {
   "display_name": "Python 2",
   "language": "python",
   "name": "python2"
  },
  "language_info": {
   "codemirror_mode": {
    "name": "ipython",
    "version": 2
   },
   "file_extension": ".py",
   "mimetype": "text/x-python",
   "name": "python",
   "nbconvert_exporter": "python",
   "pygments_lexer": "ipython2",
   "version": "2.7.13"
  }
 },
 "nbformat": 4,
 "nbformat_minor": 0
}
