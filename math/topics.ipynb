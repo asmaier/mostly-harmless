{
 "cells": [
  {
   "cell_type": "markdown",
   "metadata": {},
   "source": [
    "# Topics\n",
    "## Linear algebra\n",
    "- Functions of matrics\n",
    " - https://en.wikipedia.org/wiki/Matrix_function\n",
    " - https://en.wikipedia.org/wiki/Matrix_exponential\n",
    " - https://en.wikipedia.org/wiki/Logarithm_of_a_matrix\n",
    " \n",
    "- https://math.stackexchange.com/questions/1149598/how-to-solve-a-non-linear-matrix-equation-over-integer-numbers\n",
    "\n",
    "## Transformations && Groups\n",
    "\n",
    "- https://en.wikipedia.org/wiki/Linear_canonical_transformation\n",
    "- https://en.wikipedia.org/wiki/Hartley_transform\n",
    "- https://en.wikipedia.org/wiki/Split-complex_number\n",
    "- https://en.wikipedia.org/wiki/Dual_number (https://math.stackexchange.com/questions/1120720/are-dual-numbers-a-special-case-of-grassmann-numbers)\n",
    "- https://en.wikipedia.org/wiki/Grassmann_number ([Grassmann vectors](https://math.stackexchange.com/questions/1108045/relationship-between-levi-civita-symbol-and-grassmann-numbers))\n",
    "- https://en.wikipedia.org/wiki/Quaternion (https://math.stackexchange.com/questions/147166/does-my-definition-of-double-complex-noncommutative-numbers-make-any-sense)\n",
    "- https://math.stackexchange.com/questions/2083950/relationship-between-levi-civita-symbol-and-complex-quaternionic-numbers\n",
    "\n",
    "## Calculus\n",
    "\n",
    "- Euler-MacLaurin \n",
    " - https://people.csail.mit.edu/kuat/courses/euler-maclaurin.pdf\n",
    " - http://www.hep.caltech.edu/~phys199/lectures/lect5_6_ems.pdf\n",
    " - https://terrytao.wordpress.com/2010/04/10/the-euler-maclaurin-formula-bernoulli-numbers-the-zeta-function-and-real-variable-analytic-continuation/\n",
    "- http://mathworld.wolfram.com/WatsonsTripleIntegrals.html\n",
    " - http://www.inp.nsk.su/~silagadz/Watson_Integral.pdf\n",
    "- https://en.wikipedia.org/wiki/Product_integral\n",
    "- Generalized Calculus \n",
    " - http://math2.org/math/paper/preface.htm\n",
    " - http://www.gauge-institute.org/calculus/PowerMeansCalculus.pdf\n",
    "- Finite calculus \n",
    " - https://www.cs.purdue.edu/homes/dgleich/publications/Gleich%202005%20-%20finite%20calculus.pdf\n",
    " - https://en.wikipedia.org/wiki/Concrete_Mathematics\n",
    "- Iterative roots and fractional iteration \n",
    " - http://reglos.de/lars/ffx.html\n",
    " - https://mathoverflow.net/questions/17605/how-to-solve-ffx-cosx\n",
    "\n",
    "## Geometry\n",
    "- [Cutting a cube along the diagonal](https://www.friedrich-verlag.de/fileadmin/redaktion/sekundarstufe/Mathematik/Der_Mathematikunterricht/Leseproben/Der_Mathematikunterricht_3_13_Leseprobe_2.pdf)\n",
    "- https://en.wikipedia.org/wiki/Visual_calculus\n",
    "\n",
    "## Weird constants and functions\n",
    "- https://en.wikipedia.org/wiki/Euler%E2%80%93Mascheroni_constant#Generalizations\n",
    "- https://en.wikipedia.org/wiki/Universal_parabolic_constant\n",
    " - http://mathworld.wolfram.com/UniversalParabolicConstant.html\n",
    " - https://mathoverflow.net/questions/37871/is-it-a-coincidence-that-the-universal-parabolic-constant-shows-up-in-the-soluti\n",
    "- https://en.wikipedia.org/wiki/Ap%C3%A9ry%27s_constant\n",
    " - https://math.stackexchange.com/questions/12815/riemann-zeta-function-at-odd-positive-integers/12819#12819\n",
    "- https://math.stackexchange.com/questions/1792755/connection-between-the-area-of-a-n-sphere-and-the-riemann-zeta-function\n",
    "- https://en.wikipedia.org/wiki/Gauss%27s_constant\n",
    " - https://en.wikipedia.org/wiki/Lemniscatic_elliptic_function\n",
    "\n",
    "## Probability\n",
    "- https://en.wikipedia.org/wiki/Secretary_problem"
   ]
  },
  {
   "cell_type": "code",
   "execution_count": 1,
   "metadata": {
    "collapsed": false
   },
   "outputs": [
    {
     "data": {
      "text/html": [
       "<style>\n",
       "\n",
       "    @import url('http://fonts.googleapis.com/css?family=Crimson+Text');\n",
       "    @import url('http://fonts.googleapis.com/css?family=Source+Code+Pro');\n",
       "\n",
       "    /* Change code font */\n",
       "    .CodeMirror pre {\n",
       "        font-family: 'Source Code Pro', Consolas, monocco, monospace;\n",
       "    }\n",
       "\n",
       "    div.input_area {\n",
       "        width: 60em;\n",
       "    }\n",
       "\n",
       "    div.cell{\n",
       "        width: 60em;\n",
       "        margin-left: auto;\n",
       "        margin-right:auto;\n",
       "    }\n",
       "\n",
       "    div.text_cell {\n",
       "        width: 60em;\n",
       "        margin-left: auto;\n",
       "        margin-right: auto;\n",
       "    }\n",
       "\n",
       "    div.text_cell_render {\n",
       "        text-align: justify;\n",
       "        font-family: \"Crimson Text\";\n",
       "        font-size: 18pt;\n",
       "        line-height: 145%;\n",
       "    }\n",
       "\n",
       "    div.text_cell_render h1 {\n",
       "        font-size: 30pt;\n",
       "    }\n",
       "\n",
       "    div.text_cell_render h2 {\n",
       "        font-size: 24pt;\n",
       "    }\n",
       "\n",
       "    div.text_cell_render h3 {\n",
       "        font-size: 20pt;\n",
       "    }\n",
       "\n",
       "    .prompt{\n",
       "        display: None;\n",
       "    }\n",
       "</style>\n"
      ],
      "text/plain": [
       "<IPython.core.display.HTML object>"
      ]
     },
     "execution_count": 1,
     "metadata": {},
     "output_type": "execute_result"
    }
   ],
   "source": [
    "from IPython.core.display import HTML\n",
    "\n",
    "def css_styling():\n",
    "    styles = open(\"../styles/custom.html\", \"r\").read()\n",
    "    return HTML(styles)\n",
    "css_styling()"
   ]
  },
  {
   "cell_type": "code",
   "execution_count": null,
   "metadata": {
    "collapsed": true
   },
   "outputs": [],
   "source": []
  }
 ],
 "metadata": {
  "kernelspec": {
   "display_name": "Python 2",
   "language": "python",
   "name": "python2"
  },
  "language_info": {
   "codemirror_mode": {
    "name": "ipython",
    "version": 2
   },
   "file_extension": ".py",
   "mimetype": "text/x-python",
   "name": "python",
   "nbconvert_exporter": "python",
   "pygments_lexer": "ipython2",
   "version": "2.7.13"
  }
 },
 "nbformat": 4,
 "nbformat_minor": 0
}
