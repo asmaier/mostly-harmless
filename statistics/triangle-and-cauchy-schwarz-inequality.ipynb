{
 "cells": [
  {
   "cell_type": "markdown",
   "metadata": {},
   "source": [
    "# Triangle inequality\n",
    "## Number inequality\n",
    "We start with the obvious inequality that the absolute value of a number $\\left|a\\right|$ is always greater or equal the number $a$ itself\n",
    "$$\n",
    "|a| \\geq a\n",
    "$$\n",
    "Using this we can prove that for numbers $a$ and $b$ we have\n",
    "$$\n",
    "|a| + |b|  \\geq |a+b|\n",
    "$$\n",
    "because\n",
    "$$\n",
    "(|a| + |b|)^2  \\geq (|a+b|)^2 \\\\\n",
    "|a|^2  + 2|a||b| + |b|^2 \\geq |a^2 + 2ab + b^2| \\\\\n",
    "2|a||b| \\geq 2|ab|\n",
    "$$\n",
    "The last line is always true if $|a| \\geq a$, which completes our prove.\n",
    "# Cauchy-Schwarz inequality\n",
    "Because $\\sin^2(\\phi) + \\cos^2(\\phi) = 1$ we have\n",
    "$$\n",
    "|a|^2|b|^2 = |a|^2|b|^2 (\\sin^2(\\phi) + \\cos^2(\\phi))\n",
    "$$\n",
    "With the definition of the scalar product $|a\\cdot b| = |a||b|\\cos(\\phi)$ and the cross product $|a\\times b| = |a||b|\\sin(\\phi)$ of vectors $a$ and $b$ we can write this expression as\n",
    "$$\n",
    "|a|^2|b|^2 = |a\\times b|^2 + |a\\cdot b|^2\n",
    "$$\n",
    "This is called Lagrange's identity. Since all terms are squared and therefor positive we immediatelly can derive the inequalities\n",
    "$$\n",
    "|a|^2|b|^2 \\geq |a\\cdot b|^2 \\\\\n",
    "|a|^2|b|^2 \\geq |a\\times b|^2\n",
    "$$\n",
    "The first of these equations is the Cauchy-Schwarz inequality. The second equations doesn't seem to have a name in the literature. \n",
    "\n",
    "The Cauchy-Schwarz inequality comes in many different forms. For example for $n$-dimensional vectors it can be written in cartesian coordinates like\n",
    "$$\n",
    "\\sum (a_i)^2 \\sum (b_i)^2 \\geq \\left(\\sum a_i b_i \\right)^2\n",
    "$$\n",
    "This can even be generalized to uncountable infinite dimensional vectors (also called continuous square integrable functions) like\n",
    "$$\n",
    "\\left(\\int \\left|a(x)\\right|^2 dx\\right) \\cdot \\left(\\int \\left|b(x)\\right|^2 dx\\right) \\geq \\left|\\int a(x) \\cdot b(x)dx\\right|^2\n",
    "$$"
   ]
  },
  {
   "cell_type": "code",
   "execution_count": 1,
   "metadata": {
    "collapsed": false
   },
   "outputs": [
    {
     "data": {
      "text/html": [
       "<style>\n",
       "\n",
       "    @import url('http://fonts.googleapis.com/css?family=Crimson+Text');\n",
       "    @import url('http://fonts.googleapis.com/css?family=Source+Code+Pro');\n",
       "\n",
       "    /* Change code font */\n",
       "    .CodeMirror pre {\n",
       "        font-family: 'Source Code Pro', Consolas, monocco, monospace;\n",
       "    }\n",
       "\n",
       "    div.input_area {\n",
       "        width: 60em;\n",
       "    }\n",
       "\n",
       "    div.cell{\n",
       "        width: 60em;\n",
       "        margin-left: auto;\n",
       "        margin-right:auto;\n",
       "    }\n",
       "\n",
       "    div.text_cell {\n",
       "        width: 60em;\n",
       "        margin-left: auto;\n",
       "        margin-right: auto;\n",
       "    }\n",
       "\n",
       "    div.text_cell_render {\n",
       "        text-align: justify;\n",
       "        font-family: \"Crimson Text\";\n",
       "        font-size: 18pt;\n",
       "        line-height: 145%;\n",
       "    }\n",
       "\n",
       "    div.text_cell_render h1 {\n",
       "        font-size: 30pt;\n",
       "    }\n",
       "\n",
       "    div.text_cell_render h2 {\n",
       "        font-size: 24pt;\n",
       "    }\n",
       "\n",
       "    div.text_cell_render h3 {\n",
       "        font-size: 20pt;\n",
       "    }\n",
       "\n",
       "    .prompt{\n",
       "        display: None;\n",
       "    }\n",
       "</style>\n"
      ],
      "text/plain": [
       "<IPython.core.display.HTML object>"
      ]
     },
     "execution_count": 1,
     "metadata": {},
     "output_type": "execute_result"
    }
   ],
   "source": [
    "from IPython.core.display import HTML\n",
    "\n",
    "def css_styling():\n",
    "    styles = open(\"../styles/custom.html\", \"r\").read()\n",
    "    return HTML(styles)\n",
    "css_styling()"
   ]
  }
 ],
 "metadata": {
  "kernelspec": {
   "display_name": "Python 2",
   "language": "python",
   "name": "python2"
  },
  "language_info": {
   "codemirror_mode": {
    "name": "ipython",
    "version": 2
   },
   "file_extension": ".py",
   "mimetype": "text/x-python",
   "name": "python",
   "nbconvert_exporter": "python",
   "pygments_lexer": "ipython2",
   "version": "2.7.10"
  }
 },
 "nbformat": 4,
 "nbformat_minor": 0
}
